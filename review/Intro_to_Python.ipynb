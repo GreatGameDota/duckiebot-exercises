{
  "cells": [
    {
      "cell_type": "markdown",
      "metadata": {
        "id": "Od3SjjxzjFdh"
      },
      "source": [
        "# Variables\n",
        "\n",
        "In Python, variables are simple, you just need to write the variable name, an equals sign, and whatever you want to set it to after. You don't even need a semicolon!\n",
        "\n",
        "*variable name* = *variable value*"
      ]
    },
    {
      "cell_type": "code",
      "execution_count": null,
      "metadata": {
        "id": "Uim9y0GtitWk"
      },
      "outputs": [],
      "source": [
        "variable = 0"
      ]
    },
    {
      "cell_type": "markdown",
      "metadata": {
        "id": "iY3tRLerjZkW"
      },
      "source": [
        "# Types\n",
        "\n",
        "There are specific types of variables you can create. The default and most basic types include an int, double, string, and booleon."
      ]
    },
    {
      "cell_type": "markdown",
      "metadata": {
        "id": "0KmNaW_LjxZF"
      },
      "source": [
        "#### Example Int Variables"
      ]
    },
    {
      "cell_type": "code",
      "execution_count": null,
      "metadata": {
        "id": "7KOh7gA5jmCz"
      },
      "outputs": [],
      "source": [
        "int_variable1 = 1\n",
        "int_variable2 = 2\n",
        "int_variable3 = 2000\n",
        "int_variable2 = -10"
      ]
    },
    {
      "cell_type": "markdown",
      "metadata": {
        "id": "yd0reEB3j0Kv"
      },
      "source": [
        "#### Example Double Variables"
      ]
    },
    {
      "cell_type": "code",
      "execution_count": null,
      "metadata": {
        "id": "m47ta3_sjvFQ"
      },
      "outputs": [],
      "source": [
        "double_variable1 = 1.0\n",
        "double_variable2 = 10.5\n",
        "double_variable3 = -1.5\n",
        "double_variable4 = 3.141592654"
      ]
    },
    {
      "cell_type": "markdown",
      "metadata": {
        "id": "gY93xgTbj_km"
      },
      "source": [
        "#### Example String Variables"
      ]
    },
    {
      "cell_type": "code",
      "execution_count": null,
      "metadata": {
        "id": "sWm5nijZj9pT"
      },
      "outputs": [],
      "source": [
        "string_variable1 = \"Hello World!\"\n",
        "string_variable2 = \"test\"\n",
        "string_variable3 = 'string example'\n",
        "double_variable4 = \"\""
      ]
    },
    {
      "cell_type": "markdown",
      "metadata": {
        "id": "0AaL4DVNkIoz"
      },
      "source": [
        "#### Example Booleon Variables"
      ]
    },
    {
      "cell_type": "code",
      "execution_count": null,
      "metadata": {
        "id": "F3RwslTakH0D"
      },
      "outputs": [],
      "source": [
        "booleon_variable1 = True\n",
        "booleon_variable2 = False"
      ]
    },
    {
      "cell_type": "markdown",
      "metadata": {
        "id": "gcvU8mLekVOS"
      },
      "source": [
        "# Printing to Console"
      ]
    },
    {
      "cell_type": "code",
      "execution_count": null,
      "metadata": {
        "colab": {
          "base_uri": "https://localhost:8080/"
        },
        "id": "q795W-KpkRG7",
        "outputId": "da50812e-f3c7-4dea-e31b-58ac10a7d6ed"
      },
      "outputs": [
        {
          "name": "stdout",
          "output_type": "stream",
          "text": [
            "Hello World!\n"
          ]
        }
      ],
      "source": [
        "print(\"Hello World!\")"
      ]
    },
    {
      "cell_type": "code",
      "execution_count": null,
      "metadata": {
        "colab": {
          "base_uri": "https://localhost:8080/"
        },
        "id": "0qcn5TdOkZsi",
        "outputId": "d529811d-119d-440a-9e5d-f65532907ba0"
      },
      "outputs": [
        {
          "name": "stdout",
          "output_type": "stream",
          "text": [
            "Hello World!\n"
          ]
        }
      ],
      "source": [
        "print(string_variable1)"
      ]
    },
    {
      "cell_type": "markdown",
      "metadata": {
        "id": "85dQvA6mk2Lt"
      },
      "source": [
        "# Comments"
      ]
    },
    {
      "cell_type": "code",
      "execution_count": null,
      "metadata": {
        "id": "nM-HjC4GkmVe"
      },
      "outputs": [],
      "source": [
        "# In-line comment"
      ]
    },
    {
      "cell_type": "code",
      "execution_count": null,
      "metadata": {
        "id": "yRydDjyzk7Gz"
      },
      "outputs": [],
      "source": [
        "var = 0 # Another in-line comment"
      ]
    },
    {
      "cell_type": "code",
      "execution_count": null,
      "metadata": {
        "colab": {
          "base_uri": "https://localhost:8080/"
        },
        "id": "Upkxh1kylAvH",
        "outputId": "aa3638d5-8f80-4241-b804-49c174dbf4b7"
      },
      "outputs": [
        {
          "data": {
            "application/vnd.google.colaboratory.intrinsic+json": {
              "type": "string"
            },
            "text/plain": [
              "'\\nMulti-line Comments\\nWow!\\n'"
            ]
          },
          "execution_count": 91,
          "metadata": {
            "tags": []
          },
          "output_type": "execute_result"
        }
      ],
      "source": [
        "'''\n",
        "Multi-line Comments\n",
        "Wow!\n",
        "'''"
      ]
    },
    {
      "cell_type": "markdown",
      "metadata": {
        "id": "63OpQDEjlOSP"
      },
      "source": [
        "# If statements\n",
        "\n",
        "if (*expression*):  \n",
        "*tab* *code*\n",
        "\n",
        "The tab is important!"
      ]
    },
    {
      "cell_type": "code",
      "execution_count": null,
      "metadata": {
        "colab": {
          "base_uri": "https://localhost:8080/"
        },
        "id": "2gs4zNj8lHXa",
        "outputId": "138d2e60-23b7-45bf-adbd-fb4c1a2b93d4"
      },
      "outputs": [
        {
          "name": "stdout",
          "output_type": "stream",
          "text": [
            "True\n"
          ]
        }
      ],
      "source": [
        "if (True):\n",
        "  print(\"True\")"
      ]
    },
    {
      "cell_type": "code",
      "execution_count": null,
      "metadata": {
        "id": "byRRw7FAoaWG"
      },
      "outputs": [],
      "source": [
        "if (10 == 1 and 10 < 1):\n",
        "  print(\"True\")"
      ]
    },
    {
      "cell_type": "markdown",
      "metadata": {
        "id": "YbCFTwx2l8oy"
      },
      "source": [
        "# If Else Statements\n",
        "\n",
        "if (*expression*):  \n",
        "*tab* *code*  \n",
        "else:  \n",
        "*tab* *code*"
      ]
    },
    {
      "cell_type": "code",
      "execution_count": null,
      "metadata": {
        "colab": {
          "base_uri": "https://localhost:8080/"
        },
        "id": "FFSVEcAjl6pe",
        "outputId": "3c6948b1-9557-400e-b37a-82326e8babf1"
      },
      "outputs": [
        {
          "name": "stdout",
          "output_type": "stream",
          "text": [
            "False\n"
          ]
        }
      ],
      "source": [
        "if (False):\n",
        "  print(\"True\")\n",
        "else:\n",
        "  print(\"False\")"
      ]
    },
    {
      "cell_type": "markdown",
      "metadata": {
        "id": "8vEhRi8ymaAq"
      },
      "source": [
        "# Elif Statements\n",
        "\n",
        "Functions the same as other languages' ```else if``` statements.\n",
        "\n",
        "if (*expression*):  \n",
        "*tab* *code*  \n",
        "elif (*expression*):  \n",
        "*tab* *code*  \n",
        "else:  \n",
        "*tab* *code*"
      ]
    },
    {
      "cell_type": "code",
      "execution_count": 15,
      "metadata": {
        "colab": {
          "base_uri": "https://localhost:8080/"
        },
        "id": "SwN0EgwamUVf",
        "outputId": "faa29e98-9775-4214-a8d8-42745918b0a1"
      },
      "outputs": [
        {
          "name": "stdout",
          "output_type": "stream",
          "text": [
            "Greater than zero\n"
          ]
        }
      ],
      "source": [
        "if (int_variable1 < 0):\n",
        "  print(\"Less than zero\")\n",
        "elif (int_variable1 > 0):\n",
        "  print(\"Greater than zero\")\n",
        "else:\n",
        "  print(\"Equal to zero\")"
      ]
    },
    {
      "cell_type": "markdown",
      "metadata": {
        "id": "PhrDnlTZphGy"
      },
      "source": [
        "# Arrays"
      ]
    },
    {
      "cell_type": "code",
      "execution_count": null,
      "metadata": {
        "colab": {
          "base_uri": "https://localhost:8080/"
        },
        "id": "_rTJUmGWpIlu",
        "outputId": "46a22f87-3e20-462a-b213-6ebf467ea14f"
      },
      "outputs": [
        {
          "name": "stdout",
          "output_type": "stream",
          "text": [
            "[]\n"
          ]
        }
      ],
      "source": [
        "array = []\n",
        "\n",
        "print(array)"
      ]
    },
    {
      "cell_type": "code",
      "execution_count": null,
      "metadata": {
        "colab": {
          "base_uri": "https://localhost:8080/"
        },
        "id": "v-UXnumtpkgT",
        "outputId": "d40e68e6-5dca-4040-d341-623f53a36c7b"
      },
      "outputs": [
        {
          "name": "stdout",
          "output_type": "stream",
          "text": [
            "[0, 1, 2]\n"
          ]
        }
      ],
      "source": [
        "array = [0, 1, 2]\n",
        "\n",
        "print(array)"
      ]
    },
    {
      "cell_type": "code",
      "execution_count": null,
      "metadata": {
        "colab": {
          "base_uri": "https://localhost:8080/"
        },
        "id": "fxrl0I51pnY_",
        "outputId": "65af0c7c-f80e-4c2b-f53f-24a7c06116df"
      },
      "outputs": [
        {
          "name": "stdout",
          "output_type": "stream",
          "text": [
            "[0, 1, 2, 3]\n"
          ]
        }
      ],
      "source": [
        "array.append(3)\n",
        "\n",
        "print(array)"
      ]
    },
    {
      "cell_type": "code",
      "execution_count": 21,
      "metadata": {
        "id": "mIR6XqaA9vKH"
      },
      "outputs": [],
      "source": [
        "array = [0, \"Hello\"]"
      ]
    },
    {
      "cell_type": "code",
      "execution_count": null,
      "metadata": {
        "colab": {
          "base_uri": "https://localhost:8080/"
        },
        "id": "Me-yHSxP9yZs",
        "outputId": "1bc91503-3c24-45b1-a411-58959e0b14cb"
      },
      "outputs": [
        {
          "data": {
            "text/plain": [
              "[0, 'Hello']"
            ]
          },
          "execution_count": 17,
          "metadata": {
            "tags": []
          },
          "output_type": "execute_result"
        }
      ],
      "source": [
        "array"
      ]
    },
    {
      "cell_type": "markdown",
      "metadata": {
        "id": "CrIYkglArTOx"
      },
      "source": [
        "#### Indexing and Slicing"
      ]
    },
    {
      "cell_type": "code",
      "execution_count": null,
      "metadata": {
        "colab": {
          "base_uri": "https://localhost:8080/"
        },
        "id": "Y7xLDf95rU8b",
        "outputId": "b3d688e7-14a7-4724-a0c4-8459dfdcc6b7"
      },
      "outputs": [
        {
          "name": "stdout",
          "output_type": "stream",
          "text": [
            "0\n"
          ]
        }
      ],
      "source": [
        "print(array[0])"
      ]
    },
    {
      "cell_type": "code",
      "execution_count": null,
      "metadata": {
        "colab": {
          "base_uri": "https://localhost:8080/"
        },
        "id": "PCqhUZpMrW_A",
        "outputId": "ff21a197-873c-46c8-86e7-adf6a5cecc9f"
      },
      "outputs": [
        {
          "name": "stdout",
          "output_type": "stream",
          "text": [
            "1\n"
          ]
        }
      ],
      "source": [
        "print(array[1])"
      ]
    },
    {
      "cell_type": "code",
      "execution_count": null,
      "metadata": {
        "colab": {
          "base_uri": "https://localhost:8080/"
        },
        "id": "ZmGWhWKqrZGl",
        "outputId": "be7bd768-64cd-40d2-e592-370e5d4ae50b"
      },
      "outputs": [
        {
          "name": "stdout",
          "output_type": "stream",
          "text": [
            "3\n"
          ]
        }
      ],
      "source": [
        "print(array[-1])"
      ]
    },
    {
      "cell_type": "code",
      "execution_count": null,
      "metadata": {
        "colab": {
          "base_uri": "https://localhost:8080/"
        },
        "id": "OFkAhHEYreBV",
        "outputId": "e264c2b1-dfd3-4b27-8b9b-62abb80d04c8"
      },
      "outputs": [
        {
          "name": "stdout",
          "output_type": "stream",
          "text": [
            "[0, 1, 2]\n"
          ]
        }
      ],
      "source": [
        "print(array[0:3])"
      ]
    },
    {
      "cell_type": "code",
      "execution_count": null,
      "metadata": {
        "colab": {
          "base_uri": "https://localhost:8080/"
        },
        "id": "ul5Y2CAHrmbT",
        "outputId": "57282a3c-a6a7-4a5b-ad54-8884ef6075f1"
      },
      "outputs": [
        {
          "name": "stdout",
          "output_type": "stream",
          "text": [
            "[0, 1]\n"
          ]
        }
      ],
      "source": [
        "print(array[0:-2])"
      ]
    },
    {
      "cell_type": "markdown",
      "metadata": {
        "id": "RNUuLMRur2uW"
      },
      "source": [
        "#### Size of array"
      ]
    },
    {
      "cell_type": "code",
      "execution_count": null,
      "metadata": {
        "colab": {
          "base_uri": "https://localhost:8080/"
        },
        "id": "WLiOXBU_sA4S",
        "outputId": "42920cbc-39b4-4f92-fa9c-3cab0d923fdb"
      },
      "outputs": [
        {
          "name": "stdout",
          "output_type": "stream",
          "text": [
            "4\n"
          ]
        }
      ],
      "source": [
        "print(len(array))"
      ]
    },
    {
      "cell_type": "markdown",
      "metadata": {
        "id": "mfuVh6jWqCm4"
      },
      "source": [
        "# Loops"
      ]
    },
    {
      "cell_type": "markdown",
      "metadata": {
        "id": "9hPqSF_tqO8J"
      },
      "source": [
        "#### While Loop\n",
        "\n",
        "while (*expression*):  \n",
        "*tab* *code*"
      ]
    },
    {
      "cell_type": "code",
      "execution_count": 19,
      "metadata": {
        "colab": {
          "base_uri": "https://localhost:8080/"
        },
        "id": "ONhoudjQppia",
        "outputId": "56167a76-6a20-4c7e-8166-abd18576448d"
      },
      "outputs": [
        {
          "name": "stdout",
          "output_type": "stream",
          "text": [
            "0\n",
            "1\n",
            "2\n",
            "3\n",
            "4\n",
            "5\n",
            "6\n",
            "7\n",
            "8\n",
            "9\n"
          ]
        }
      ],
      "source": [
        "i = 0\n",
        "\n",
        "while (i < 10):\n",
        "  print(i)\n",
        "  i += 1"
      ]
    },
    {
      "cell_type": "code",
      "execution_count": null,
      "metadata": {
        "id": "hL2otXS4qbjc"
      },
      "outputs": [],
      "source": [
        "'''\n",
        "while (True):\n",
        "  print(\"Infinite Loop\")\n",
        "'''"
      ]
    },
    {
      "cell_type": "markdown",
      "metadata": {
        "id": "2FHnkaJBqtQg"
      },
      "source": [
        "#### For loop\n",
        "\n",
        "for *variable* in *variable*:  \n",
        "*tab* *code*"
      ]
    },
    {
      "cell_type": "code",
      "execution_count": 22,
      "metadata": {
        "colab": {
          "base_uri": "https://localhost:8080/"
        },
        "id": "yUyZNudxq98q",
        "outputId": "22736171-fa6e-406e-e011-99ecb81dacb5"
      },
      "outputs": [
        {
          "name": "stdout",
          "output_type": "stream",
          "text": [
            "0\n",
            "Hello\n"
          ]
        }
      ],
      "source": [
        "for num in array:\n",
        "  print(num)"
      ]
    },
    {
      "cell_type": "markdown",
      "metadata": {
        "id": "w2GP7KXyrDwQ"
      },
      "source": [
        "#### Range"
      ]
    },
    {
      "cell_type": "code",
      "execution_count": 23,
      "metadata": {
        "colab": {
          "base_uri": "https://localhost:8080/"
        },
        "id": "1ULS-Ug4rE3P",
        "outputId": "01749564-6363-4baf-b35b-4925ef80d123"
      },
      "outputs": [
        {
          "name": "stdout",
          "output_type": "stream",
          "text": [
            "range(0, 10)\n"
          ]
        }
      ],
      "source": [
        "print(range(0, 10))"
      ]
    },
    {
      "cell_type": "code",
      "execution_count": null,
      "metadata": {
        "colab": {
          "base_uri": "https://localhost:8080/"
        },
        "id": "LMBaVs8MrK1Z",
        "outputId": "a869bafd-c2af-4da3-faf5-6f42e6d5994e"
      },
      "outputs": [
        {
          "name": "stdout",
          "output_type": "stream",
          "text": [
            "0\n"
          ]
        }
      ],
      "source": [
        "print(range(0, 10)[0])"
      ]
    },
    {
      "cell_type": "code",
      "execution_count": null,
      "metadata": {
        "colab": {
          "base_uri": "https://localhost:8080/"
        },
        "id": "nXLA00PTrOT0",
        "outputId": "bc07dc22-6f42-4339-892d-39fcd4f8986f"
      },
      "outputs": [
        {
          "name": "stdout",
          "output_type": "stream",
          "text": [
            "1\n"
          ]
        }
      ],
      "source": [
        "print(range(0, 10)[1])"
      ]
    },
    {
      "cell_type": "code",
      "execution_count": null,
      "metadata": {
        "colab": {
          "base_uri": "https://localhost:8080/"
        },
        "id": "rHZHitU1rP9a",
        "outputId": "10f09544-14e5-47f8-d4de-feac1213839e"
      },
      "outputs": [
        {
          "name": "stdout",
          "output_type": "stream",
          "text": [
            "9\n"
          ]
        }
      ],
      "source": [
        "print(range(0, 10)[-1])"
      ]
    },
    {
      "cell_type": "markdown",
      "metadata": {
        "id": "8-6KsKKgsruL"
      },
      "source": [
        "#### Ranged For loop"
      ]
    },
    {
      "cell_type": "code",
      "execution_count": 24,
      "metadata": {
        "colab": {
          "base_uri": "https://localhost:8080/"
        },
        "id": "5ImPFZghsQPJ",
        "outputId": "79b19b56-db49-4ae4-aa9b-f3a940f11a8f"
      },
      "outputs": [
        {
          "name": "stdout",
          "output_type": "stream",
          "text": [
            "0\n",
            "1\n",
            "2\n",
            "3\n",
            "4\n",
            "5\n",
            "6\n",
            "7\n",
            "8\n",
            "9\n"
          ]
        }
      ],
      "source": [
        "for i in range(10):\n",
        "  print(i)"
      ]
    },
    {
      "cell_type": "code",
      "execution_count": 25,
      "metadata": {
        "colab": {
          "base_uri": "https://localhost:8080/"
        },
        "id": "4wdsknoRsu7q",
        "outputId": "de0696ab-2301-4ae8-e492-aad18e04cb4d"
      },
      "outputs": [
        {
          "name": "stdout",
          "output_type": "stream",
          "text": [
            "5\n",
            "6\n",
            "7\n",
            "8\n",
            "9\n"
          ]
        }
      ],
      "source": [
        "for i in range(5, 10):\n",
        "  print(i)"
      ]
    },
    {
      "cell_type": "markdown",
      "metadata": {
        "id": "q9oneH5pvZaE"
      },
      "source": [
        "# Functions\n",
        "\n",
        "def <*function name*>(*parameters*):  \n",
        "*tab* *code*"
      ]
    },
    {
      "cell_type": "code",
      "execution_count": 26,
      "metadata": {
        "id": "-wiMKS301esz"
      },
      "outputs": [],
      "source": [
        "def example_function1():\n",
        "  print(\"Hello!\")"
      ]
    },
    {
      "cell_type": "code",
      "execution_count": 27,
      "metadata": {
        "colab": {
          "base_uri": "https://localhost:8080/"
        },
        "id": "wfMe7cKf4zUF",
        "outputId": "d459a0f7-0694-437e-c778-5b9d3c403814"
      },
      "outputs": [
        {
          "name": "stdout",
          "output_type": "stream",
          "text": [
            "Hello!\n"
          ]
        }
      ],
      "source": [
        "example_function1()"
      ]
    },
    {
      "cell_type": "markdown",
      "metadata": {
        "id": "RHVk1XVE5W-n"
      },
      "source": [
        "#### Input Parameters"
      ]
    },
    {
      "cell_type": "code",
      "execution_count": 28,
      "metadata": {
        "id": "76fWMKB740wT"
      },
      "outputs": [],
      "source": [
        "def example_function2(parameter1):\n",
        "  print(parameter1)"
      ]
    },
    {
      "cell_type": "code",
      "execution_count": 29,
      "metadata": {
        "colab": {
          "base_uri": "https://localhost:8080/"
        },
        "id": "Af4YiCJn5cOy",
        "outputId": "3e44d132-84d2-45d0-f9cc-8893da8e7cff"
      },
      "outputs": [
        {
          "name": "stdout",
          "output_type": "stream",
          "text": [
            "Hello!\n"
          ]
        }
      ],
      "source": [
        "example_function2(\"Hello!\")"
      ]
    },
    {
      "cell_type": "code",
      "execution_count": 30,
      "metadata": {
        "colab": {
          "base_uri": "https://localhost:8080/"
        },
        "id": "wuXbYI-p5dn_",
        "outputId": "90bd8c9e-adef-45a9-95bc-869915594e64"
      },
      "outputs": [
        {
          "name": "stdout",
          "output_type": "stream",
          "text": [
            "100\n"
          ]
        }
      ],
      "source": [
        "example_function2(100)"
      ]
    },
    {
      "cell_type": "code",
      "execution_count": 31,
      "metadata": {
        "id": "7wMbRh-i5fKB"
      },
      "outputs": [],
      "source": [
        "def example_function3(param1, param2):\n",
        "  print(f'Param1: {param1} Param2: {param2}')"
      ]
    },
    {
      "cell_type": "code",
      "execution_count": 32,
      "metadata": {
        "colab": {
          "base_uri": "https://localhost:8080/"
        },
        "id": "W6wUya6h5nmq",
        "outputId": "66107004-e324-4a2c-b3fd-628a3fed8c47"
      },
      "outputs": [
        {
          "name": "stdout",
          "output_type": "stream",
          "text": [
            "Param1: Hello! Param2: 100\n"
          ]
        }
      ],
      "source": [
        "example_function3(\"Hello!\", 100)"
      ]
    },
    {
      "cell_type": "markdown",
      "metadata": {
        "id": "KFq8jsFD6OyY"
      },
      "source": [
        "#### Return Values"
      ]
    },
    {
      "cell_type": "code",
      "execution_count": 33,
      "metadata": {
        "id": "3FS1U_fG5pwK"
      },
      "outputs": [],
      "source": [
        "def example_function4(param1):\n",
        "  return param1 * 2"
      ]
    },
    {
      "cell_type": "code",
      "execution_count": 34,
      "metadata": {
        "colab": {
          "base_uri": "https://localhost:8080/"
        },
        "id": "MkRBFpkc6Tt1",
        "outputId": "5d4e396b-8ff1-4e2c-8e2a-c0a4afd96fe9"
      },
      "outputs": [
        {
          "name": "stdout",
          "output_type": "stream",
          "text": [
            "200\n"
          ]
        }
      ],
      "source": [
        "print(example_function4(100))"
      ]
    },
    {
      "cell_type": "code",
      "execution_count": 35,
      "metadata": {
        "id": "lotJbgk-6VNN"
      },
      "outputs": [],
      "source": [
        "def example_function5(param1, param2):\n",
        "  return param1 + param2"
      ]
    },
    {
      "cell_type": "code",
      "execution_count": 36,
      "metadata": {
        "colab": {
          "base_uri": "https://localhost:8080/"
        },
        "id": "ZBTpU9ZW6sDE",
        "outputId": "7cc55f3f-624e-42ac-9f2c-c91a8419fd42"
      },
      "outputs": [
        {
          "name": "stdout",
          "output_type": "stream",
          "text": [
            "30\n"
          ]
        }
      ],
      "source": [
        "print(example_function5(10, 20))"
      ]
    }
  ],
  "metadata": {
    "colab": {
      "collapsed_sections": [
        "0KmNaW_LjxZF",
        "8vEhRi8ymaAq"
      ],
      "name": "Intro to Python.ipynb",
      "provenance": []
    },
    "kernelspec": {
      "display_name": "Python 3.10.2 64-bit",
      "language": "python",
      "name": "python3"
    },
    "language_info": {
      "name": "python",
      "version": "3.10.2"
    },
    "vscode": {
      "interpreter": {
        "hash": "4a3f79615f4fc4fe4c126b09f4b7b9ca6bf3fa1b0db49a89b7121217c0a89977"
      }
    }
  },
  "nbformat": 4,
  "nbformat_minor": 0
}
